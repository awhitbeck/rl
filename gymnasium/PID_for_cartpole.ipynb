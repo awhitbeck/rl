{
 "cells": [
  {
   "cell_type": "code",
   "execution_count": 67,
   "id": "946d08fe-d204-4618-b993-6cc0f3f8ec85",
   "metadata": {},
   "outputs": [],
   "source": [
    "import gymnasium as gym\n",
    "import matplotlib\n",
    "import matplotlib.pyplot as plt\n",
    "import torch\n",
    "import torch.nn as nn\n",
    "import torch.nn.functional as F\n",
    "import torch.optim as optim\n",
    "\n",
    "# set up matplotlib\n",
    "is_ipython = 'inline' in matplotlib.get_backend()\n",
    "if is_ipython:\n",
    "    from IPython import display\n",
    "\n",
    "plt.ion()\n",
    "\n",
    "# if GPU is to be used\n",
    "device = torch.device(\n",
    "    \"cuda\" if torch.cuda.is_available() else\n",
    "    \"mps\" if torch.backends.mps.is_available() else\n",
    "    \"CPU\"\n",
    ")\n",
    "\n",
    "env = gym.make('CartPole-v1')\n",
    "state = env.reset()"
   ]
  },
  {
   "cell_type": "code",
   "execution_count": 72,
   "id": "0b717e66-ca83-4c71-925c-609495bc8b94",
   "metadata": {},
   "outputs": [],
   "source": [
    "class PID(nn.Module) : \n",
    "    def __init__(self,objective,fifo_depth=50):\n",
    "        super(PID, self).__init__()\n",
    "        self.obj= objective\n",
    "        self.fifo_depth = fifo_depth\n",
    "        self.errors = [0.]*self.fifo_depth\n",
    "        self.layer1 = nn.Linear(3, 1)\n",
    "        #self.layer2 = nn.Linear(1, 1)\n",
    "\n",
    "    # Called with either one element to determine next action, or a batch\n",
    "    # during optimization. Returns tensor([[left0exp,right0exp]...]).\n",
    "    def forward(self, x):\n",
    "        x=self.layer1(x)\n",
    "        #x=self.layer2(x)\n",
    "        #x=x*1000.\n",
    "        return F.sigmoid(x)\n",
    "        \n",
    "    def eval(self,sense):\n",
    "        self.errors.pop(0)\n",
    "        self.errors.append(sense-self.obj)\n",
    "        # last element in errors list is the latest\n",
    "        # sum(errors) is the integral over the last fifo_depth sensor readings\n",
    "        x = [[self.errors[self.fifo_depth-1],sum(self.errors),self.errors[self.fifo_depth-1]-self.errors[self.fifo_depth-2]]]\n",
    "        #return int(self.forward(torch.Tensor(x).cuda()).item()>0)\n",
    "        return self.forward(torch.Tensor(x).cuda()).item()"
   ]
  },
  {
   "cell_type": "code",
   "execution_count": 73,
   "id": "9bf76883-6f46-4c30-a52c-b15692be866e",
   "metadata": {},
   "outputs": [
    {
     "data": {
      "text/plain": [
       "0.27945515513420105"
      ]
     },
     "execution_count": 73,
     "metadata": {},
     "output_type": "execute_result"
    }
   ],
   "source": [
    "pid = PID(0.).to(device)\n",
    "pid.eval(0.309)\n",
    "\n",
    "#pid.layer2.weight[0][0]\n",
    "#pid.eval(0.1)\n"
   ]
  },
  {
   "cell_type": "code",
   "execution_count": 74,
   "id": "f9707d39-62f1-4d4b-953d-940c2a9be359",
   "metadata": {},
   "outputs": [],
   "source": [
    "## optimization utilities\n",
    "# Initialize loss function and optimizer\n",
    "criterion = nn.MSELoss()\n",
    "optimizer = optim.AdamW(pid.parameters(), lr=0.001, amsgrad=True)\n",
    "\n"
   ]
  },
  {
   "cell_type": "code",
   "execution_count": 77,
   "id": "c75d750a-87be-4924-9c18-c7d40c062667",
   "metadata": {
    "scrolled": true
   },
   "outputs": [
    {
     "name": "stdout",
     "output_type": "stream",
     "text": [
      "Steps: 9   Total Reward: 9.0\n",
      "Steps: 10   Total Reward: 10.0\n",
      "Steps: 10   Total Reward: 10.0\n",
      "Steps: 9   Total Reward: 9.0\n",
      "Steps: 9   Total Reward: 9.0\n",
      "Steps: 10   Total Reward: 10.0\n",
      "Steps: 10   Total Reward: 10.0\n",
      "Steps: 9   Total Reward: 9.0\n",
      "Steps: 10   Total Reward: 10.0\n",
      "Steps: 9   Total Reward: 9.0\n",
      "Average reward: 9.5\n"
     ]
    },
    {
     "data": {
      "image/png": "[encoded data removed]",
      "text/plain": [
       "<Figure size 640x480 with 1 Axes>"
      ]
     },
     "metadata": {},
     "output_type": "display_data"
    }
   ],
   "source": [
    "avg_reward = []\n",
    "outputs = torch.empty(size=(1,1))\n",
    "targets = torch.empty(size=(1,1))\n",
    "losses = []\n",
    "for i in range(10):\n",
    "    obs,info = env.reset()\n",
    "    obs = torch.Tensor(obs.reshape((1,4)))\n",
    "    tot_reward = 0\n",
    "    history = []\n",
    "    term = False\n",
    "    debug_print = False\n",
    "    step_num = 0 \n",
    "    while not term : \n",
    "        action = int(pid.eval(obs[0][2].item()))\n",
    "        obs,reward,term,trun,info = env.step(action)\n",
    "        obs = torch.Tensor(obs.reshape((1,4)))\n",
    "        tot_reward = tot_reward+reward\n",
    "        history.append(obs[0][2].item())\n",
    "        if debug_print :\n",
    "            print(\"obs:\",obs)\n",
    "            print(\"reward:\",reward)\n",
    "            print(\"term:\",term)\n",
    "            print(\"angle:\",obs[0][2].item())\n",
    "            print(\"action:\",action)\n",
    "        step_num = step_num+1\n",
    "        if step_num : \n",
    "            outputs  = torch.cat(( outputs.cuda(), torch.Tensor([[obs[0][2].item()]]).cuda() ))\n",
    "            targets = torch.cat(( targets.cuda(), torch.Tensor([[0.]]).cuda() )) \n",
    "        else : \n",
    "            outputs  = obs[2]\n",
    "            targets = torch.Tensor([[0.]])\n",
    "    avg_reward.append(tot_reward)\n",
    "    print(\"Steps: {0}   Total Reward: {1}\".format(len(history),tot_reward))   \n",
    "    loss = criterion(outputs.cuda(), targets.cuda())\n",
    "\n",
    "    # Optimize the model\n",
    "    #optimizer.zero_grad()\n",
    "    #loss.backward()\n",
    "    # In-place gradient clipping\n",
    "    #torch.nn.utils.clip_grad_value_(surrogate.parameters(), 100)\n",
    "    #optimizer.step()\n",
    "    #print(loss.item())\n",
    "    #losses.append(loss.item())\n",
    "#\n",
    "print(\"Average reward:\",sum(avg_reward)/10.)\n",
    "plt.plot(range(len(history)),history)\n",
    "plt.show()"
   ]
  },
  {
   "cell_type": "code",
   "execution_count": null,
   "id": "bcc8a21d-db00-4520-8d3a-95209bac791b",
   "metadata": {},
   "outputs": [],
   "source": []
  },
  {
   "cell_type": "code",
   "execution_count": null,
   "id": "1939d790-7430-4480-b66d-a9d9a185b5ad",
   "metadata": {},
   "outputs": [],
   "source": []
  }
 ],
 "metadata": {
  "kernelspec": {
   "display_name": "Python 3 (ipykernel)",
   "language": "python",
   "name": "python3"
  },
  "language_info": {
   "codemirror_mode": {
    "name": "ipython",
    "version": 3
   },
   "file_extension": ".py",
   "mimetype": "text/x-python",
   "name": "python",
   "nbconvert_exporter": "python",
   "pygments_lexer": "ipython3",
   "version": "3.10.16"
  }
 },
 "nbformat": 4,
 "nbformat_minor": 5
}
